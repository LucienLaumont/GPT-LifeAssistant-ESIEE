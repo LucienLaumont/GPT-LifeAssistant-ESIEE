{
  "nbformat": 4,
  "nbformat_minor": 0,
  "metadata": {
    "colab": {
      "provenance": [],
      "gpuType": "T4"
    },
    "kernelspec": {
      "name": "python3",
      "display_name": "Python 3"
    },
    "language_info": {
      "name": "python"
    },
    "accelerator": "GPU",
    "widgets": {
      "application/vnd.jupyter.widget-state+json": {
        "3e836db5edff44c5988dbef2178a7ab0": {
          "model_module": "@jupyter-widgets/controls",
          "model_name": "HBoxModel",
          "model_module_version": "1.5.0",
          "state": {
            "_dom_classes": [],
            "_model_module": "@jupyter-widgets/controls",
            "_model_module_version": "1.5.0",
            "_model_name": "HBoxModel",
            "_view_count": null,
            "_view_module": "@jupyter-widgets/controls",
            "_view_module_version": "1.5.0",
            "_view_name": "HBoxView",
            "box_style": "",
            "children": [
              "IPY_MODEL_9c3e309d042742b6b18c3ed9789b735b",
              "IPY_MODEL_58fccaea6976432ba2d7065a909c3364",
              "IPY_MODEL_225817c8dcae42aa8f91c483cc97624e"
            ],
            "layout": "IPY_MODEL_6e45ae6468654cb28ad6e98e2dc75a53"
          }
        },
        "9c3e309d042742b6b18c3ed9789b735b": {
          "model_module": "@jupyter-widgets/controls",
          "model_name": "HTMLModel",
          "model_module_version": "1.5.0",
          "state": {
            "_dom_classes": [],
            "_model_module": "@jupyter-widgets/controls",
            "_model_module_version": "1.5.0",
            "_model_name": "HTMLModel",
            "_view_count": null,
            "_view_module": "@jupyter-widgets/controls",
            "_view_module_version": "1.5.0",
            "_view_name": "HTMLView",
            "description": "",
            "description_tooltip": null,
            "layout": "IPY_MODEL_87fce731eeef46178fc7bb3361bbf7a4",
            "placeholder": "​",
            "style": "IPY_MODEL_622ec06f838d42b7a410b39a96f32ef1",
            "value": "Map: 100%"
          }
        },
        "58fccaea6976432ba2d7065a909c3364": {
          "model_module": "@jupyter-widgets/controls",
          "model_name": "FloatProgressModel",
          "model_module_version": "1.5.0",
          "state": {
            "_dom_classes": [],
            "_model_module": "@jupyter-widgets/controls",
            "_model_module_version": "1.5.0",
            "_model_name": "FloatProgressModel",
            "_view_count": null,
            "_view_module": "@jupyter-widgets/controls",
            "_view_module_version": "1.5.0",
            "_view_name": "ProgressView",
            "bar_style": "success",
            "description": "",
            "description_tooltip": null,
            "layout": "IPY_MODEL_a96c65520e114a318c275e8932c363e8",
            "max": 923,
            "min": 0,
            "orientation": "horizontal",
            "style": "IPY_MODEL_dd3f04594fc24175abcfae4310bc57c2",
            "value": 923
          }
        },
        "225817c8dcae42aa8f91c483cc97624e": {
          "model_module": "@jupyter-widgets/controls",
          "model_name": "HTMLModel",
          "model_module_version": "1.5.0",
          "state": {
            "_dom_classes": [],
            "_model_module": "@jupyter-widgets/controls",
            "_model_module_version": "1.5.0",
            "_model_name": "HTMLModel",
            "_view_count": null,
            "_view_module": "@jupyter-widgets/controls",
            "_view_module_version": "1.5.0",
            "_view_name": "HTMLView",
            "description": "",
            "description_tooltip": null,
            "layout": "IPY_MODEL_f44c50356e42409daef3c44eb0cc14c7",
            "placeholder": "​",
            "style": "IPY_MODEL_315d16dd325844c391f57324a20bb5be",
            "value": " 923/923 [00:03&lt;00:00, 248.82 examples/s]"
          }
        },
        "6e45ae6468654cb28ad6e98e2dc75a53": {
          "model_module": "@jupyter-widgets/base",
          "model_name": "LayoutModel",
          "model_module_version": "1.2.0",
          "state": {
            "_model_module": "@jupyter-widgets/base",
            "_model_module_version": "1.2.0",
            "_model_name": "LayoutModel",
            "_view_count": null,
            "_view_module": "@jupyter-widgets/base",
            "_view_module_version": "1.2.0",
            "_view_name": "LayoutView",
            "align_content": null,
            "align_items": null,
            "align_self": null,
            "border": null,
            "bottom": null,
            "display": null,
            "flex": null,
            "flex_flow": null,
            "grid_area": null,
            "grid_auto_columns": null,
            "grid_auto_flow": null,
            "grid_auto_rows": null,
            "grid_column": null,
            "grid_gap": null,
            "grid_row": null,
            "grid_template_areas": null,
            "grid_template_columns": null,
            "grid_template_rows": null,
            "height": null,
            "justify_content": null,
            "justify_items": null,
            "left": null,
            "margin": null,
            "max_height": null,
            "max_width": null,
            "min_height": null,
            "min_width": null,
            "object_fit": null,
            "object_position": null,
            "order": null,
            "overflow": null,
            "overflow_x": null,
            "overflow_y": null,
            "padding": null,
            "right": null,
            "top": null,
            "visibility": null,
            "width": null
          }
        },
        "87fce731eeef46178fc7bb3361bbf7a4": {
          "model_module": "@jupyter-widgets/base",
          "model_name": "LayoutModel",
          "model_module_version": "1.2.0",
          "state": {
            "_model_module": "@jupyter-widgets/base",
            "_model_module_version": "1.2.0",
            "_model_name": "LayoutModel",
            "_view_count": null,
            "_view_module": "@jupyter-widgets/base",
            "_view_module_version": "1.2.0",
            "_view_name": "LayoutView",
            "align_content": null,
            "align_items": null,
            "align_self": null,
            "border": null,
            "bottom": null,
            "display": null,
            "flex": null,
            "flex_flow": null,
            "grid_area": null,
            "grid_auto_columns": null,
            "grid_auto_flow": null,
            "grid_auto_rows": null,
            "grid_column": null,
            "grid_gap": null,
            "grid_row": null,
            "grid_template_areas": null,
            "grid_template_columns": null,
            "grid_template_rows": null,
            "height": null,
            "justify_content": null,
            "justify_items": null,
            "left": null,
            "margin": null,
            "max_height": null,
            "max_width": null,
            "min_height": null,
            "min_width": null,
            "object_fit": null,
            "object_position": null,
            "order": null,
            "overflow": null,
            "overflow_x": null,
            "overflow_y": null,
            "padding": null,
            "right": null,
            "top": null,
            "visibility": null,
            "width": null
          }
        },
        "622ec06f838d42b7a410b39a96f32ef1": {
          "model_module": "@jupyter-widgets/controls",
          "model_name": "DescriptionStyleModel",
          "model_module_version": "1.5.0",
          "state": {
            "_model_module": "@jupyter-widgets/controls",
            "_model_module_version": "1.5.0",
            "_model_name": "DescriptionStyleModel",
            "_view_count": null,
            "_view_module": "@jupyter-widgets/base",
            "_view_module_version": "1.2.0",
            "_view_name": "StyleView",
            "description_width": ""
          }
        },
        "a96c65520e114a318c275e8932c363e8": {
          "model_module": "@jupyter-widgets/base",
          "model_name": "LayoutModel",
          "model_module_version": "1.2.0",
          "state": {
            "_model_module": "@jupyter-widgets/base",
            "_model_module_version": "1.2.0",
            "_model_name": "LayoutModel",
            "_view_count": null,
            "_view_module": "@jupyter-widgets/base",
            "_view_module_version": "1.2.0",
            "_view_name": "LayoutView",
            "align_content": null,
            "align_items": null,
            "align_self": null,
            "border": null,
            "bottom": null,
            "display": null,
            "flex": null,
            "flex_flow": null,
            "grid_area": null,
            "grid_auto_columns": null,
            "grid_auto_flow": null,
            "grid_auto_rows": null,
            "grid_column": null,
            "grid_gap": null,
            "grid_row": null,
            "grid_template_areas": null,
            "grid_template_columns": null,
            "grid_template_rows": null,
            "height": null,
            "justify_content": null,
            "justify_items": null,
            "left": null,
            "margin": null,
            "max_height": null,
            "max_width": null,
            "min_height": null,
            "min_width": null,
            "object_fit": null,
            "object_position": null,
            "order": null,
            "overflow": null,
            "overflow_x": null,
            "overflow_y": null,
            "padding": null,
            "right": null,
            "top": null,
            "visibility": null,
            "width": null
          }
        },
        "dd3f04594fc24175abcfae4310bc57c2": {
          "model_module": "@jupyter-widgets/controls",
          "model_name": "ProgressStyleModel",
          "model_module_version": "1.5.0",
          "state": {
            "_model_module": "@jupyter-widgets/controls",
            "_model_module_version": "1.5.0",
            "_model_name": "ProgressStyleModel",
            "_view_count": null,
            "_view_module": "@jupyter-widgets/base",
            "_view_module_version": "1.2.0",
            "_view_name": "StyleView",
            "bar_color": null,
            "description_width": ""
          }
        },
        "f44c50356e42409daef3c44eb0cc14c7": {
          "model_module": "@jupyter-widgets/base",
          "model_name": "LayoutModel",
          "model_module_version": "1.2.0",
          "state": {
            "_model_module": "@jupyter-widgets/base",
            "_model_module_version": "1.2.0",
            "_model_name": "LayoutModel",
            "_view_count": null,
            "_view_module": "@jupyter-widgets/base",
            "_view_module_version": "1.2.0",
            "_view_name": "LayoutView",
            "align_content": null,
            "align_items": null,
            "align_self": null,
            "border": null,
            "bottom": null,
            "display": null,
            "flex": null,
            "flex_flow": null,
            "grid_area": null,
            "grid_auto_columns": null,
            "grid_auto_flow": null,
            "grid_auto_rows": null,
            "grid_column": null,
            "grid_gap": null,
            "grid_row": null,
            "grid_template_areas": null,
            "grid_template_columns": null,
            "grid_template_rows": null,
            "height": null,
            "justify_content": null,
            "justify_items": null,
            "left": null,
            "margin": null,
            "max_height": null,
            "max_width": null,
            "min_height": null,
            "min_width": null,
            "object_fit": null,
            "object_position": null,
            "order": null,
            "overflow": null,
            "overflow_x": null,
            "overflow_y": null,
            "padding": null,
            "right": null,
            "top": null,
            "visibility": null,
            "width": null
          }
        },
        "315d16dd325844c391f57324a20bb5be": {
          "model_module": "@jupyter-widgets/controls",
          "model_name": "DescriptionStyleModel",
          "model_module_version": "1.5.0",
          "state": {
            "_model_module": "@jupyter-widgets/controls",
            "_model_module_version": "1.5.0",
            "_model_name": "DescriptionStyleModel",
            "_view_count": null,
            "_view_module": "@jupyter-widgets/base",
            "_view_module_version": "1.2.0",
            "_view_name": "StyleView",
            "description_width": ""
          }
        },
        "c9fd9f5111ff43c498e62a26dcbe1098": {
          "model_module": "@jupyter-widgets/controls",
          "model_name": "HBoxModel",
          "model_module_version": "1.5.0",
          "state": {
            "_dom_classes": [],
            "_model_module": "@jupyter-widgets/controls",
            "_model_module_version": "1.5.0",
            "_model_name": "HBoxModel",
            "_view_count": null,
            "_view_module": "@jupyter-widgets/controls",
            "_view_module_version": "1.5.0",
            "_view_name": "HBoxView",
            "box_style": "",
            "children": [
              "IPY_MODEL_27e7343fba5f4d22868bb0dd38feaf6b",
              "IPY_MODEL_7c040791d58246bfb60371073e779b38",
              "IPY_MODEL_9e6fcc67f2e24231a517f461c3d70b05"
            ],
            "layout": "IPY_MODEL_4d5a226eb1c24777918121127a798e1a"
          }
        },
        "27e7343fba5f4d22868bb0dd38feaf6b": {
          "model_module": "@jupyter-widgets/controls",
          "model_name": "HTMLModel",
          "model_module_version": "1.5.0",
          "state": {
            "_dom_classes": [],
            "_model_module": "@jupyter-widgets/controls",
            "_model_module_version": "1.5.0",
            "_model_name": "HTMLModel",
            "_view_count": null,
            "_view_module": "@jupyter-widgets/controls",
            "_view_module_version": "1.5.0",
            "_view_name": "HTMLView",
            "description": "",
            "description_tooltip": null,
            "layout": "IPY_MODEL_7f711a0de54040e9b7a159cc1749e315",
            "placeholder": "​",
            "style": "IPY_MODEL_e11a30fe654f42cf980e14adad71491d",
            "value": "Map: 100%"
          }
        },
        "7c040791d58246bfb60371073e779b38": {
          "model_module": "@jupyter-widgets/controls",
          "model_name": "FloatProgressModel",
          "model_module_version": "1.5.0",
          "state": {
            "_dom_classes": [],
            "_model_module": "@jupyter-widgets/controls",
            "_model_module_version": "1.5.0",
            "_model_name": "FloatProgressModel",
            "_view_count": null,
            "_view_module": "@jupyter-widgets/controls",
            "_view_module_version": "1.5.0",
            "_view_name": "ProgressView",
            "bar_style": "success",
            "description": "",
            "description_tooltip": null,
            "layout": "IPY_MODEL_b4306620ac0a421a947fc1a2366cce23",
            "max": 231,
            "min": 0,
            "orientation": "horizontal",
            "style": "IPY_MODEL_df462bfe70cc4893938dbde5b73956d7",
            "value": 231
          }
        },
        "9e6fcc67f2e24231a517f461c3d70b05": {
          "model_module": "@jupyter-widgets/controls",
          "model_name": "HTMLModel",
          "model_module_version": "1.5.0",
          "state": {
            "_dom_classes": [],
            "_model_module": "@jupyter-widgets/controls",
            "_model_module_version": "1.5.0",
            "_model_name": "HTMLModel",
            "_view_count": null,
            "_view_module": "@jupyter-widgets/controls",
            "_view_module_version": "1.5.0",
            "_view_name": "HTMLView",
            "description": "",
            "description_tooltip": null,
            "layout": "IPY_MODEL_475541fb7fad4b66a2e5954adc4201a8",
            "placeholder": "​",
            "style": "IPY_MODEL_ee2b12d9c3ed42578b3f74f894c6668b",
            "value": " 231/231 [00:00&lt;00:00, 250.61 examples/s]"
          }
        },
        "4d5a226eb1c24777918121127a798e1a": {
          "model_module": "@jupyter-widgets/base",
          "model_name": "LayoutModel",
          "model_module_version": "1.2.0",
          "state": {
            "_model_module": "@jupyter-widgets/base",
            "_model_module_version": "1.2.0",
            "_model_name": "LayoutModel",
            "_view_count": null,
            "_view_module": "@jupyter-widgets/base",
            "_view_module_version": "1.2.0",
            "_view_name": "LayoutView",
            "align_content": null,
            "align_items": null,
            "align_self": null,
            "border": null,
            "bottom": null,
            "display": null,
            "flex": null,
            "flex_flow": null,
            "grid_area": null,
            "grid_auto_columns": null,
            "grid_auto_flow": null,
            "grid_auto_rows": null,
            "grid_column": null,
            "grid_gap": null,
            "grid_row": null,
            "grid_template_areas": null,
            "grid_template_columns": null,
            "grid_template_rows": null,
            "height": null,
            "justify_content": null,
            "justify_items": null,
            "left": null,
            "margin": null,
            "max_height": null,
            "max_width": null,
            "min_height": null,
            "min_width": null,
            "object_fit": null,
            "object_position": null,
            "order": null,
            "overflow": null,
            "overflow_x": null,
            "overflow_y": null,
            "padding": null,
            "right": null,
            "top": null,
            "visibility": null,
            "width": null
          }
        },
        "7f711a0de54040e9b7a159cc1749e315": {
          "model_module": "@jupyter-widgets/base",
          "model_name": "LayoutModel",
          "model_module_version": "1.2.0",
          "state": {
            "_model_module": "@jupyter-widgets/base",
            "_model_module_version": "1.2.0",
            "_model_name": "LayoutModel",
            "_view_count": null,
            "_view_module": "@jupyter-widgets/base",
            "_view_module_version": "1.2.0",
            "_view_name": "LayoutView",
            "align_content": null,
            "align_items": null,
            "align_self": null,
            "border": null,
            "bottom": null,
            "display": null,
            "flex": null,
            "flex_flow": null,
            "grid_area": null,
            "grid_auto_columns": null,
            "grid_auto_flow": null,
            "grid_auto_rows": null,
            "grid_column": null,
            "grid_gap": null,
            "grid_row": null,
            "grid_template_areas": null,
            "grid_template_columns": null,
            "grid_template_rows": null,
            "height": null,
            "justify_content": null,
            "justify_items": null,
            "left": null,
            "margin": null,
            "max_height": null,
            "max_width": null,
            "min_height": null,
            "min_width": null,
            "object_fit": null,
            "object_position": null,
            "order": null,
            "overflow": null,
            "overflow_x": null,
            "overflow_y": null,
            "padding": null,
            "right": null,
            "top": null,
            "visibility": null,
            "width": null
          }
        },
        "e11a30fe654f42cf980e14adad71491d": {
          "model_module": "@jupyter-widgets/controls",
          "model_name": "DescriptionStyleModel",
          "model_module_version": "1.5.0",
          "state": {
            "_model_module": "@jupyter-widgets/controls",
            "_model_module_version": "1.5.0",
            "_model_name": "DescriptionStyleModel",
            "_view_count": null,
            "_view_module": "@jupyter-widgets/base",
            "_view_module_version": "1.2.0",
            "_view_name": "StyleView",
            "description_width": ""
          }
        },
        "b4306620ac0a421a947fc1a2366cce23": {
          "model_module": "@jupyter-widgets/base",
          "model_name": "LayoutModel",
          "model_module_version": "1.2.0",
          "state": {
            "_model_module": "@jupyter-widgets/base",
            "_model_module_version": "1.2.0",
            "_model_name": "LayoutModel",
            "_view_count": null,
            "_view_module": "@jupyter-widgets/base",
            "_view_module_version": "1.2.0",
            "_view_name": "LayoutView",
            "align_content": null,
            "align_items": null,
            "align_self": null,
            "border": null,
            "bottom": null,
            "display": null,
            "flex": null,
            "flex_flow": null,
            "grid_area": null,
            "grid_auto_columns": null,
            "grid_auto_flow": null,
            "grid_auto_rows": null,
            "grid_column": null,
            "grid_gap": null,
            "grid_row": null,
            "grid_template_areas": null,
            "grid_template_columns": null,
            "grid_template_rows": null,
            "height": null,
            "justify_content": null,
            "justify_items": null,
            "left": null,
            "margin": null,
            "max_height": null,
            "max_width": null,
            "min_height": null,
            "min_width": null,
            "object_fit": null,
            "object_position": null,
            "order": null,
            "overflow": null,
            "overflow_x": null,
            "overflow_y": null,
            "padding": null,
            "right": null,
            "top": null,
            "visibility": null,
            "width": null
          }
        },
        "df462bfe70cc4893938dbde5b73956d7": {
          "model_module": "@jupyter-widgets/controls",
          "model_name": "ProgressStyleModel",
          "model_module_version": "1.5.0",
          "state": {
            "_model_module": "@jupyter-widgets/controls",
            "_model_module_version": "1.5.0",
            "_model_name": "ProgressStyleModel",
            "_view_count": null,
            "_view_module": "@jupyter-widgets/base",
            "_view_module_version": "1.2.0",
            "_view_name": "StyleView",
            "bar_color": null,
            "description_width": ""
          }
        },
        "475541fb7fad4b66a2e5954adc4201a8": {
          "model_module": "@jupyter-widgets/base",
          "model_name": "LayoutModel",
          "model_module_version": "1.2.0",
          "state": {
            "_model_module": "@jupyter-widgets/base",
            "_model_module_version": "1.2.0",
            "_model_name": "LayoutModel",
            "_view_count": null,
            "_view_module": "@jupyter-widgets/base",
            "_view_module_version": "1.2.0",
            "_view_name": "LayoutView",
            "align_content": null,
            "align_items": null,
            "align_self": null,
            "border": null,
            "bottom": null,
            "display": null,
            "flex": null,
            "flex_flow": null,
            "grid_area": null,
            "grid_auto_columns": null,
            "grid_auto_flow": null,
            "grid_auto_rows": null,
            "grid_column": null,
            "grid_gap": null,
            "grid_row": null,
            "grid_template_areas": null,
            "grid_template_columns": null,
            "grid_template_rows": null,
            "height": null,
            "justify_content": null,
            "justify_items": null,
            "left": null,
            "margin": null,
            "max_height": null,
            "max_width": null,
            "min_height": null,
            "min_width": null,
            "object_fit": null,
            "object_position": null,
            "order": null,
            "overflow": null,
            "overflow_x": null,
            "overflow_y": null,
            "padding": null,
            "right": null,
            "top": null,
            "visibility": null,
            "width": null
          }
        },
        "ee2b12d9c3ed42578b3f74f894c6668b": {
          "model_module": "@jupyter-widgets/controls",
          "model_name": "DescriptionStyleModel",
          "model_module_version": "1.5.0",
          "state": {
            "_model_module": "@jupyter-widgets/controls",
            "_model_module_version": "1.5.0",
            "_model_name": "DescriptionStyleModel",
            "_view_count": null,
            "_view_module": "@jupyter-widgets/base",
            "_view_module_version": "1.2.0",
            "_view_name": "StyleView",
            "description_width": ""
          }
        }
      }
    }
  },
  "cells": [
    {
      "cell_type": "markdown",
      "source": [
        "# 🍽️ **Fine-tuning GPT-2 Medium for a Cooking-Themed Model**\n"
      ],
      "metadata": {
        "id": "A3Kxgcy9PraM"
      }
    },
    {
      "cell_type": "markdown",
      "source": [
        "## 🎯 **Project Objective**  \n",
        "\n",
        "The goal of this project is to fine-tune a **GPT-2 Medium** model using a **custom dataset generated by Phi-2**, focusing on the theme of **cooking**. This fine-tuned model will be specialized in generating relevant and creative content related to recipes, cooking techniques, ingredient pairings, and other culinary-related topics.  "
      ],
      "metadata": {
        "id": "F0t7ecEMQuUC"
      }
    },
    {
      "cell_type": "markdown",
      "source": [
        "## 📌**Methodology**\n",
        "\n",
        "1. **Dataset Generation**  \n",
        "   - A dataset will be created using **Phi-2**, which will generate high-quality text samples centered around cooking.  \n",
        "   - The dataset will be curated and formatted to fit the fine-tuning process of GPT-2.  \n",
        "\n",
        "2. **Fine-Tuning GPT-2**  \n",
        "   - A **GPT-2 Medium** model will be fine-tuned using the generated dataset.  \n",
        "   - Optimization techniques such as **gradient accumulation, mixed precision training (fp16), and learning rate scheduling** will be applied to improve efficiency.  \n",
        "   - The model will be trained for multiple epochs with appropriate evaluation and checkpointing strategies.  \n",
        "\n",
        "3. **Integration into a Web App**  \n",
        "   - Once the model is fine-tuned, it will be integrated into a **web application**.  \n",
        "   - The app will be hosted **locally**, allowing users to interact with the model in real-time for cooking-related queries.  \n",
        "   - The backend will handle model inference, while the frontend will provide an intuitive user interface for seamless interactions.  \n"
      ],
      "metadata": {
        "id": "ofRf89lZQv4q"
      }
    },
    {
      "cell_type": "markdown",
      "source": [
        "## 🚀 **Final Goal**\n",
        "\n",
        "At the end of the project, the **custom GPT-2 cooking model** will be deployed on a locally hosted **web platform**, making it accessible for users who want AI-generated cooking assistance, personalized recipe suggestions, and culinary insights.  "
      ],
      "metadata": {
        "id": "BeCmkulkQ8k8"
      }
    },
    {
      "cell_type": "code",
      "execution_count": 1,
      "metadata": {
        "colab": {
          "base_uri": "https://localhost:8080/"
        },
        "id": "5hcuh5AV6eGK",
        "outputId": "28a199a3-b9ac-4287-ba08-6b17706d80a3"
      },
      "outputs": [
        {
          "output_type": "stream",
          "name": "stdout",
          "text": [
            "Drive already mounted at /content/drive; to attempt to forcibly remount, call drive.mount(\"/content/drive\", force_remount=True).\n"
          ]
        }
      ],
      "source": [
        "from google.colab import drive\n",
        "drive.mount('/content/drive')"
      ]
    },
    {
      "cell_type": "code",
      "source": [
        "pip install datasets ace_tools"
      ],
      "metadata": {
        "id": "JBomKZgq8nLM",
        "colab": {
          "base_uri": "https://localhost:8080/"
        },
        "outputId": "ca105a15-ad01-4670-a6fe-38b7dcaa32dc"
      },
      "execution_count": 32,
      "outputs": [
        {
          "output_type": "stream",
          "name": "stdout",
          "text": [
            "Requirement already satisfied: datasets in /usr/local/lib/python3.11/dist-packages (3.3.1)\n",
            "Collecting ace_tools\n",
            "  Downloading ace_tools-0.0-py3-none-any.whl.metadata (300 bytes)\n",
            "Requirement already satisfied: filelock in /usr/local/lib/python3.11/dist-packages (from datasets) (3.17.0)\n",
            "Requirement already satisfied: numpy>=1.17 in /usr/local/lib/python3.11/dist-packages (from datasets) (1.26.4)\n",
            "Requirement already satisfied: pyarrow>=15.0.0 in /usr/local/lib/python3.11/dist-packages (from datasets) (17.0.0)\n",
            "Requirement already satisfied: dill<0.3.9,>=0.3.0 in /usr/local/lib/python3.11/dist-packages (from datasets) (0.3.8)\n",
            "Requirement already satisfied: pandas in /usr/local/lib/python3.11/dist-packages (from datasets) (2.2.2)\n",
            "Requirement already satisfied: requests>=2.32.2 in /usr/local/lib/python3.11/dist-packages (from datasets) (2.32.3)\n",
            "Requirement already satisfied: tqdm>=4.66.3 in /usr/local/lib/python3.11/dist-packages (from datasets) (4.67.1)\n",
            "Requirement already satisfied: xxhash in /usr/local/lib/python3.11/dist-packages (from datasets) (3.5.0)\n",
            "Requirement already satisfied: multiprocess<0.70.17 in /usr/local/lib/python3.11/dist-packages (from datasets) (0.70.16)\n",
            "Requirement already satisfied: fsspec<=2024.12.0,>=2023.1.0 in /usr/local/lib/python3.11/dist-packages (from fsspec[http]<=2024.12.0,>=2023.1.0->datasets) (2024.10.0)\n",
            "Requirement already satisfied: aiohttp in /usr/local/lib/python3.11/dist-packages (from datasets) (3.11.12)\n",
            "Requirement already satisfied: huggingface-hub>=0.24.0 in /usr/local/lib/python3.11/dist-packages (from datasets) (0.28.1)\n",
            "Requirement already satisfied: packaging in /usr/local/lib/python3.11/dist-packages (from datasets) (24.2)\n",
            "Requirement already satisfied: pyyaml>=5.1 in /usr/local/lib/python3.11/dist-packages (from datasets) (6.0.2)\n",
            "Requirement already satisfied: aiohappyeyeballs>=2.3.0 in /usr/local/lib/python3.11/dist-packages (from aiohttp->datasets) (2.4.6)\n",
            "Requirement already satisfied: aiosignal>=1.1.2 in /usr/local/lib/python3.11/dist-packages (from aiohttp->datasets) (1.3.2)\n",
            "Requirement already satisfied: attrs>=17.3.0 in /usr/local/lib/python3.11/dist-packages (from aiohttp->datasets) (25.1.0)\n",
            "Requirement already satisfied: frozenlist>=1.1.1 in /usr/local/lib/python3.11/dist-packages (from aiohttp->datasets) (1.5.0)\n",
            "Requirement already satisfied: multidict<7.0,>=4.5 in /usr/local/lib/python3.11/dist-packages (from aiohttp->datasets) (6.1.0)\n",
            "Requirement already satisfied: propcache>=0.2.0 in /usr/local/lib/python3.11/dist-packages (from aiohttp->datasets) (0.2.1)\n",
            "Requirement already satisfied: yarl<2.0,>=1.17.0 in /usr/local/lib/python3.11/dist-packages (from aiohttp->datasets) (1.18.3)\n",
            "Requirement already satisfied: typing-extensions>=3.7.4.3 in /usr/local/lib/python3.11/dist-packages (from huggingface-hub>=0.24.0->datasets) (4.12.2)\n",
            "Requirement already satisfied: charset-normalizer<4,>=2 in /usr/local/lib/python3.11/dist-packages (from requests>=2.32.2->datasets) (3.4.1)\n",
            "Requirement already satisfied: idna<4,>=2.5 in /usr/local/lib/python3.11/dist-packages (from requests>=2.32.2->datasets) (3.10)\n",
            "Requirement already satisfied: urllib3<3,>=1.21.1 in /usr/local/lib/python3.11/dist-packages (from requests>=2.32.2->datasets) (2.3.0)\n",
            "Requirement already satisfied: certifi>=2017.4.17 in /usr/local/lib/python3.11/dist-packages (from requests>=2.32.2->datasets) (2025.1.31)\n",
            "Requirement already satisfied: python-dateutil>=2.8.2 in /usr/local/lib/python3.11/dist-packages (from pandas->datasets) (2.8.2)\n",
            "Requirement already satisfied: pytz>=2020.1 in /usr/local/lib/python3.11/dist-packages (from pandas->datasets) (2025.1)\n",
            "Requirement already satisfied: tzdata>=2022.7 in /usr/local/lib/python3.11/dist-packages (from pandas->datasets) (2025.1)\n",
            "Requirement already satisfied: six>=1.5 in /usr/local/lib/python3.11/dist-packages (from python-dateutil>=2.8.2->pandas->datasets) (1.17.0)\n",
            "Downloading ace_tools-0.0-py3-none-any.whl (1.1 kB)\n",
            "Installing collected packages: ace_tools\n",
            "Successfully installed ace_tools-0.0\n"
          ]
        }
      ]
    },
    {
      "cell_type": "code",
      "source": [
        "import os\n",
        "os.environ['TF_ENABLE_ONEDNN_OPTS'] = '0'\n",
        "os.environ[\"HF_HUB_DISABLE_SYMLINKS_WARNING\"] = \"1\"\n",
        "import re\n",
        "import json\n",
        "import torch\n",
        "from transformers import GPT2LMHeadModel, GPT2Tokenizer, AutoModelForCausalLM, AutoTokenizer, Trainer, TrainingArguments\n",
        "from datasets import Dataset"
      ],
      "metadata": {
        "id": "8NEUON6d6nYt"
      },
      "execution_count": 3,
      "outputs": []
    },
    {
      "cell_type": "code",
      "source": [
        "print(torch.cuda.is_available())\n",
        "print(torch.version.cuda)"
      ],
      "metadata": {
        "id": "JPEl4M5i6sdF",
        "colab": {
          "base_uri": "https://localhost:8080/"
        },
        "outputId": "cab7f6fa-c209-408b-bc74-22210242a053"
      },
      "execution_count": 4,
      "outputs": [
        {
          "output_type": "stream",
          "name": "stdout",
          "text": [
            "True\n",
            "12.4\n"
          ]
        }
      ]
    },
    {
      "cell_type": "code",
      "source": [
        "# 1️⃣ Télécharger le modèle et le tokenizer\n",
        "model_name = \"gpt2-medium\"  # Modèle GPT-2 Medium\n",
        "tokenizer = GPT2Tokenizer.from_pretrained(model_name)\n",
        "model = GPT2LMHeadModel.from_pretrained(model_name)\n",
        "\n",
        "# Vérifier si un GPU est disponible et utiliser CUDA si possible\n",
        "device = \"cuda\" if torch.cuda.is_available() else \"cpu\"\n",
        "model.to(device)"
      ],
      "metadata": {
        "id": "Qc7wUjg-6vl-",
        "colab": {
          "base_uri": "https://localhost:8080/"
        },
        "outputId": "a2300e0b-94fc-4e5a-ec7a-3ef748948b2f"
      },
      "execution_count": 5,
      "outputs": [
        {
          "output_type": "stream",
          "name": "stderr",
          "text": [
            "/usr/local/lib/python3.11/dist-packages/huggingface_hub/utils/_auth.py:94: UserWarning: \n",
            "The secret `HF_TOKEN` does not exist in your Colab secrets.\n",
            "To authenticate with the Hugging Face Hub, create a token in your settings tab (https://huggingface.co/settings/tokens), set it as secret in your Google Colab and restart your session.\n",
            "You will be able to reuse this secret in all of your notebooks.\n",
            "Please note that authentication is recommended but still optional to access public models or datasets.\n",
            "  warnings.warn(\n"
          ]
        },
        {
          "output_type": "execute_result",
          "data": {
            "text/plain": [
              "GPT2LMHeadModel(\n",
              "  (transformer): GPT2Model(\n",
              "    (wte): Embedding(50257, 1024)\n",
              "    (wpe): Embedding(1024, 1024)\n",
              "    (drop): Dropout(p=0.1, inplace=False)\n",
              "    (h): ModuleList(\n",
              "      (0-23): 24 x GPT2Block(\n",
              "        (ln_1): LayerNorm((1024,), eps=1e-05, elementwise_affine=True)\n",
              "        (attn): GPT2Attention(\n",
              "          (c_attn): Conv1D(nf=3072, nx=1024)\n",
              "          (c_proj): Conv1D(nf=1024, nx=1024)\n",
              "          (attn_dropout): Dropout(p=0.1, inplace=False)\n",
              "          (resid_dropout): Dropout(p=0.1, inplace=False)\n",
              "        )\n",
              "        (ln_2): LayerNorm((1024,), eps=1e-05, elementwise_affine=True)\n",
              "        (mlp): GPT2MLP(\n",
              "          (c_fc): Conv1D(nf=4096, nx=1024)\n",
              "          (c_proj): Conv1D(nf=1024, nx=4096)\n",
              "          (act): NewGELUActivation()\n",
              "          (dropout): Dropout(p=0.1, inplace=False)\n",
              "        )\n",
              "      )\n",
              "    )\n",
              "    (ln_f): LayerNorm((1024,), eps=1e-05, elementwise_affine=True)\n",
              "  )\n",
              "  (lm_head): Linear(in_features=1024, out_features=50257, bias=False)\n",
              ")"
            ]
          },
          "metadata": {},
          "execution_count": 5
        }
      ]
    },
    {
      "cell_type": "markdown",
      "source": [
        "# **🤖 Configuring Generation Parameters for a Cooking Assistant LLM**\n",
        "\n",
        "When working with **Large Language Models (LLMs)**, defining **generation configurations** helps fine-tune the model’s behavior based on the required task. This project involves **fine-tuning GPT-2 Medium** for a **cooking assistant**, and the following configurations ensure the model delivers either **precise instructions** or **creative suggestions** depending on user needs.  \n",
        "\n",
        "# 🚀 GPT-2 Text Generation Configurations  \n",
        "\n",
        "Fine-tuning the text generation process in **GPT-2** requires adjusting key parameters to **optimize coherence, creativity, and response length**. Below, we outline **five different generation profiles**, each tailored to specific needs.  \n",
        "\n",
        "## **📋 List of Generation Configurations**  \n",
        "\n",
        "| **Profile Name**         | **Description**                                              | **Key Parameters**                                         |\n",
        "|-------------------------|------------------------------------------------|------------------------------------------------|\n",
        "| **Balanced and Coherent** | Ensures responses are diverse yet contextually relevant.  | `do_sample=True`, `temperature=0.7`, `top_k=50`, `max_new_tokens=150`, `repetition_penalty=1.2`  |\n",
        "| **Creative Exploration** | Encourages imaginative and varied text generation.         | `do_sample=True`, `temperature=0.85`, `top_p=0.9`, `max_new_tokens=200`, `repetition_penalty=1.1`  |\n",
        "| **Concise and Focused**  | Generates short, precise responses with minimal repetition. | `do_sample=False`, `temperature=0.6`, `max_new_tokens=100`, `repetition_penalty=1.3`  |\n",
        "| **Extended and Detailed** | Produces long, in-depth responses for comprehensive topics. | `do_sample=True`, `temperature=0.75`, `top_k=100`, `max_new_tokens=300`, `repetition_penalty=1.15`  |\n",
        "| **High Precision**       | Aims for highly accurate and contextually relevant outputs. | `do_sample=False`, `temperature=0.65`, `top_p=0.8`, `max_new_tokens=150`, `repetition_penalty=1.25`  |\n",
        "\n",
        "## **🔑 Key Parameters Explained**  \n",
        "\n",
        "### **1️⃣ `do_sample` (Enable Sampling)**\n",
        "Controls whether the model should **randomly sample from the probability distribution of possible words**.  \n",
        "- **`True`** → Introduces randomness, making responses more diverse and creative.  \n",
        "- **`False`** → Uses the most probable word at each step, leading to **more deterministic** outputs.  \n",
        "\n",
        "### **2️⃣ `temperature` (Creativity Control)**\n",
        "Determines how **random or focused** the text generation is.  \n",
        "- **Lower values (e.g., 0.6)** → More predictable and logical responses.  \n",
        "- **Higher values (e.g., 0.85)** → More creative and varied outputs.  \n",
        "\n",
        "### **3️⃣ `top_k` (Restricted Token Selection)**\n",
        "Limits the number of most probable tokens considered at each step.  \n",
        "- **A lower value (e.g., 50)** → More structured responses.  \n",
        "- **A higher value (e.g., 100)** → More diverse and spontaneous responses.  \n",
        "\n",
        "### **4️⃣ `top_p` (Nucleus Sampling)**\n",
        "Instead of selecting the top **k** tokens, `top_p` chooses the **smallest number of tokens** whose cumulative probability **exceeds the threshold `p`**.  \n",
        "- **`top_p=0.9`** → Allows more variety while keeping coherence.  \n",
        "- **Lower values (e.g., 0.8)** → More deterministic and structured outputs.  \n",
        "\n",
        "### **5️⃣ `repetition_penalty` (Avoiding Repetition)**\n",
        "Discourages the model from repeating words or phrases.  \n",
        "- **Values > 1.0 (e.g., 1.2 or 1.3)** → Reduces redundancy in generated text.  \n",
        "\n",
        "### **6️⃣ `max_new_tokens` (Output Length Control)**\n",
        "Sets the **maximum number of tokens** the model can generate per response.  \n",
        "- **Lower values (e.g., 100)** → Short and to-the-point responses.  \n",
        "- **Higher values (e.g., 300)** → More elaborate and detailed responses.  \n",
        "\n",
        "## **🎯 Choosing the Right Configuration**  \n",
        "\n",
        "| **Use Case**                                    | **Recommended Profile**        |\n",
        "|------------------------------------------------|--------------------------------|\n",
        "| Generating a structured, logical answer        | **Balanced and Coherent**      |\n",
        "| Creating unique and creative ideas             | **Creative Exploration**       |\n",
        "| Generating short, factual responses            | **Concise and Focused**        |\n",
        "| Writing detailed explanations or long texts    | **Extended and Detailed**      |\n",
        "| Producing precise, well-researched answers     | **High Precision**             |\n",
        "\n"
      ],
      "metadata": {
        "id": "gok48-xwRP7q"
      }
    },
    {
      "cell_type": "code",
      "source": [
        "# List of generation configurations\n",
        "generation_configs = [\n",
        "    {\n",
        "        \"name\": \"Balanced and Coherent\",\n",
        "        \"description\": \"Ensures outputs are both diverse and contextually relevant.\",\n",
        "        \"params\": {\n",
        "            \"do_sample\": True,  # Enables sampling for variability\n",
        "            \"temperature\": 0.7,  # Balances randomness and determinism\n",
        "            \"top_k\": 50,  # Considers the top 50 token options\n",
        "            \"max_new_tokens\": 150,  # Limits the length of the generated text\n",
        "            \"repetition_penalty\": 1.2  # Discourages repetitive phrases\n",
        "        }\n",
        "    },\n",
        "    {\n",
        "        \"name\": \"Creative Exploration\",\n",
        "        \"description\": \"Encourages imaginative and varied text generation.\",\n",
        "        \"params\": {\n",
        "            \"do_sample\": True,\n",
        "            \"temperature\": 0.85,  # Increases randomness for creativity\n",
        "            \"top_p\": 0.9,  # Nucleus sampling for broader token selection\n",
        "            \"max_new_tokens\": 200,\n",
        "            \"repetition_penalty\": 1.1\n",
        "        }\n",
        "    },\n",
        "    {\n",
        "        \"name\": \"Concise and Focused\",\n",
        "        \"description\": \"Generates brief and to-the-point responses.\",\n",
        "        \"params\": {\n",
        "            \"do_sample\": False,  # Deterministic output\n",
        "            \"temperature\": 0.6,  # Lower temperature for focused responses\n",
        "            \"max_new_tokens\": 100,\n",
        "            \"repetition_penalty\": 1.3\n",
        "        }\n",
        "    },\n",
        "    {\n",
        "        \"name\": \"Extended and Detailed\",\n",
        "        \"description\": \"Produces longer, in-depth responses suitable for comprehensive topics.\",\n",
        "        \"params\": {\n",
        "            \"do_sample\": True,\n",
        "            \"temperature\": 0.75,\n",
        "            \"top_k\": 100,\n",
        "            \"max_new_tokens\": 300,  # Allows for extended text generation\n",
        "            \"repetition_penalty\": 1.15\n",
        "        }\n",
        "    },\n",
        "    {\n",
        "        \"name\": \"High Precision\",\n",
        "        \"description\": \"Aims for accurate and contextually precise outputs.\",\n",
        "        \"params\": {\n",
        "            \"do_sample\": False,\n",
        "            \"temperature\": 0.65,\n",
        "            \"top_p\": 0.8,\n",
        "            \"max_new_tokens\": 150,\n",
        "            \"repetition_penalty\": 1.25\n",
        "        }\n",
        "    }\n",
        "]\n",
        "\n",
        "# Display available configurations\n",
        "for config in generation_configs:\n",
        "    print(f\"🔹 Profile: {config['name']}\")\n",
        "    print(f\"   📌 Description: {config['description']}\")\n",
        "    print(f\"   ⚙️ Parameters: {config['params']}\\n\")\n"
      ],
      "metadata": {
        "id": "5n11aO8f6xRM",
        "colab": {
          "base_uri": "https://localhost:8080/"
        },
        "outputId": "a7048d74-4a5e-4ded-c5e4-2487ceca4b07"
      },
      "execution_count": 39,
      "outputs": [
        {
          "output_type": "stream",
          "name": "stdout",
          "text": [
            "🔹 Profile: Balanced and Coherent\n",
            "   📌 Description: Ensures outputs are both diverse and contextually relevant.\n",
            "   ⚙️ Parameters: {'do_sample': True, 'temperature': 0.7, 'top_k': 50, 'max_new_tokens': 150, 'repetition_penalty': 1.2}\n",
            "\n",
            "🔹 Profile: Creative Exploration\n",
            "   📌 Description: Encourages imaginative and varied text generation.\n",
            "   ⚙️ Parameters: {'do_sample': True, 'temperature': 0.85, 'top_p': 0.9, 'max_new_tokens': 200, 'repetition_penalty': 1.1}\n",
            "\n",
            "🔹 Profile: Concise and Focused\n",
            "   📌 Description: Generates brief and to-the-point responses.\n",
            "   ⚙️ Parameters: {'do_sample': False, 'temperature': 0.6, 'max_new_tokens': 100, 'repetition_penalty': 1.3}\n",
            "\n",
            "🔹 Profile: Extended and Detailed\n",
            "   📌 Description: Produces longer, in-depth responses suitable for comprehensive topics.\n",
            "   ⚙️ Parameters: {'do_sample': True, 'temperature': 0.75, 'top_k': 100, 'max_new_tokens': 300, 'repetition_penalty': 1.15}\n",
            "\n",
            "🔹 Profile: High Precision\n",
            "   📌 Description: Aims for accurate and contextually precise outputs.\n",
            "   ⚙️ Parameters: {'do_sample': False, 'temperature': 0.65, 'top_p': 0.8, 'max_new_tokens': 150, 'repetition_penalty': 1.25}\n",
            "\n"
          ]
        }
      ]
    },
    {
      "cell_type": "markdown",
      "source": [
        "# 📝 **Text Generation and Cleaning Utilities**\n",
        "\n",
        "This module provides **text generation** functionality using a fine-tuned GPT-2 model and **post-processing utilities** to clean and format the generated text.\n",
        "\n",
        "## **🚀 Text Generation Function**  \n",
        "\n",
        "### **🔹 `generate_text(prompt: str, config_name: str) -> str`**  \n",
        "Generates text based on the selected **generation configuration**.  \n",
        "\n",
        "#### **📌 Arguments:**  \n",
        "- **`prompt (str)`** → The input text prompt.  \n",
        "- **`config_name (str)`** → The name of the generation configuration to use.  \n",
        "\n",
        "#### **🔄 Process:**  \n",
        "1. Finds the appropriate **generation configuration** by name.  \n",
        "2. **Encodes** the input prompt into token IDs.  \n",
        "3. Generates text using the **GPT-2 model** with the selected configuration parameters.  \n",
        "4. Decodes the output into a readable format.  \n",
        "\n",
        "#### **⚙️ Example Usage:**  \n",
        "```python\n",
        "generated_text = generate_text(\"How do I bake a chocolate cake?\", \"Creative and Adaptable\")\n",
        "print(generated_text)\n",
        "```\n",
        "\n",
        "#### **⚠️ Error Handling:**  \n",
        "- If the provided **config_name** is not found, a `ValueError` is raised, listing available configurations.  "
      ],
      "metadata": {
        "id": "hrWf2M-eSwAg"
      }
    },
    {
      "cell_type": "code",
      "source": [
        "def generate_text(prompt: str, config_name: str) -> str:\n",
        "    \"\"\"\n",
        "    Generates text based on the specified generation configuration.\n",
        "\n",
        "    Args:\n",
        "        prompt (str): The input text prompt.\n",
        "        config_name (str): The name of the generation configuration to use.\n",
        "\n",
        "    Returns:\n",
        "        str: The generated text.\n",
        "    \"\"\"\n",
        "    # Find the configuration by name\n",
        "    config = next((cfg for cfg in generation_configs if cfg[\"name\"] == config_name), None)\n",
        "\n",
        "    if config is None:\n",
        "        raise ValueError(f\"Configuration '{config_name}' not found. Available options: {[cfg['name'] for cfg in generation_configs]}\")\n",
        "\n",
        "    # ✅ Assigner le token de padding si ce n'est pas déjà fait\n",
        "    tokenizer.pad_token = tokenizer.eos_token\n",
        "\n",
        "    # ✅ Tokenization avec attention_mask pour une meilleure qualité de génération\n",
        "    inputs = tokenizer(prompt, return_tensors=\"pt\", padding=True, truncation=True, max_length=512)\n",
        "    inputs = {key: value.to(device) for key, value in inputs.items()}\n",
        "\n",
        "    # Generate text using the selected configuration\n",
        "    output = model.generate(\n",
        "        inputs[\"input_ids\"],\n",
        "        attention_mask=inputs[\"attention_mask\"],\n",
        "        **config[\"params\"],  # Unpack parameters from the selected configuration\n",
        "        pad_token_id=tokenizer.eos_token_id  # Ensure proper padding if needed\n",
        "    )\n",
        "\n",
        "    # Decode the generated output\n",
        "    return tokenizer.decode(output[0], skip_special_tokens=True)"
      ],
      "metadata": {
        "id": "amyTN0HxUUAV"
      },
      "execution_count": 28,
      "outputs": []
    },
    {
      "cell_type": "markdown",
      "source": [
        "## **🛠 Text Cleaning Functions**  \n",
        "\n",
        "### **🔹 `clean_generated_text(text: str) -> str`**  \n",
        "Cleans and formats the generated text to remove **extra spaces, stray punctuation, and formatting issues**.  \n",
        "\n",
        "#### **📌 Cleaning Process:**  \n",
        "✅ **Removes stray dots** (`\".\"`) at the start of lines.  \n",
        "✅ **Fixes excessive spaces** before punctuation.  \n",
        "✅ **Ensures proper formatting** for numbered lists.  \n",
        "✅ **Reduces multiple newlines** to a single newline.  \n",
        "\n",
        "#### **⚙️ Example Usage:**  \n",
        "```python\n",
        "raw_text = \"Here is your recipe.. \\n 1.  Preheat oven \\n \\n 2.  Mix ingredients. \"\n",
        "clean_text = clean_generated_text(raw_text)\n",
        "print(clean_text)\n",
        "```"
      ],
      "metadata": {
        "id": "KUSfOMqFTMr0"
      }
    },
    {
      "cell_type": "code",
      "source": [
        "def clean_generated_text(text: str) -> str:\n",
        "    \"\"\"\n",
        "    Cleans and formats the generated text to remove extra newlines, spaces, and stray punctuation.\n",
        "\n",
        "    Args:\n",
        "        text (str): Raw generated text.\n",
        "\n",
        "    Returns:\n",
        "        str: Formatted and cleaned text.\n",
        "    \"\"\"\n",
        "    # Remove stray dots at the beginning of a line\n",
        "    text = re.sub(r\"\\n\\s*\\.\", \"\\n\", text)\n",
        "\n",
        "    # Ensure proper spacing around punctuation\n",
        "    text = re.sub(r\"\\s+\\.\", \".\", text)  # Remove extra spaces before periods\n",
        "    text = re.sub(r\"\\.\\s*\\.\", \".\", text)  # Fix multiple consecutive periods\n",
        "\n",
        "    # Normalize newlines and lists (Ensure proper numbering)\n",
        "    text = re.sub(r\"\\n\\s*(\\d+)\\.\\s*\", r\"\\n\\1. \", text)  # Ensure numbered lists are formatted correctly\n",
        "\n",
        "    # Trim excessive newlines\n",
        "    text = re.sub(r\"\\n{2,}\", \"\\n\", text).strip()\n",
        "\n",
        "    return text"
      ],
      "metadata": {
        "id": "NHj9yA8gUYfA"
      },
      "execution_count": 29,
      "outputs": []
    },
    {
      "cell_type": "markdown",
      "source": [
        "### **🔹 `clean_incomplete_sentences(text: str) -> str`**  \n",
        "Ensures that the generated text only contains **complete sentences**, removing incomplete or cut-off phrases.  \n",
        "\n",
        "#### **📌 Cleaning Process:**  \n",
        "✅ **Splits text into sentences** while preserving formatting.  \n",
        "✅ **Removes phrases** that do not end with proper punctuation (`.!?`).  \n",
        "✅ **Maintains sentence structure and readability**.  \n",
        "\n",
        "#### **⚙️ Example Usage:**  \n",
        "```python\n",
        "text = \"Start by heating the oven. Then add the flour and mix with...\"\n",
        "cleaned_text = clean_incomplete_sentences(text)\n",
        "print(cleaned_text)\n",
        "```  \n"
      ],
      "metadata": {
        "id": "z7kpLKg7TlG8"
      }
    },
    {
      "cell_type": "code",
      "source": [
        "def clean_incomplete_sentences(text):\n",
        "    \"\"\"\n",
        "    Slice the input text into sentences, keeping the formatting\n",
        "    (e.g., \\n, spaces), and remove incomplete phrases that do not\n",
        "    end with a proper punctuation mark.\n",
        "    \"\"\"\n",
        "    # Split the text while keeping the delimiters (e.g., .!?) and formatting\n",
        "    sentences = re.split(r'(?<=[.!?])(\\s+)', text)\n",
        "\n",
        "    cleaned_text = \"\"\n",
        "    for i in range(0, len(sentences) - 1, 2):  # Process sentences with their trailing spaces\n",
        "        sentence = sentences[i]\n",
        "        trailing_space = sentences[i + 1]\n",
        "        if re.search(r'[.!?]$', sentence):  # Check if the sentence ends with valid punctuation\n",
        "            cleaned_text += sentence + trailing_space\n",
        "\n",
        "    # Handle cases where the last part is an incomplete sentence\n",
        "    if len(sentences) % 2 != 0 and re.search(r'[.!?]$', sentences[-1]):\n",
        "        cleaned_text += sentences[-1]\n",
        "\n",
        "    return cleaned_text"
      ],
      "metadata": {
        "id": "dFt0Anbj7LE1"
      },
      "execution_count": 30,
      "outputs": []
    },
    {
      "cell_type": "markdown",
      "source": [
        "# 🔥 **Fine-Tuning GPT-2 for a Cooking Assistant**\n",
        "\n",
        "This section details the **fine-tuning process** of a **GPT-2 Medium** model using a dataset of cooking-related prompts. The dataset is stored in **JSON format** and contains structured data with **instructions, inputs, and expected responses**.  \n",
        "\n",
        "## **📥 Step 1: Load the Dataset**  \n",
        "\n",
        "First, we load the dataset from **Google Drive** and parse the JSON file.  \n"
      ],
      "metadata": {
        "id": "vby1V8GyVEv0"
      }
    },
    {
      "cell_type": "code",
      "source": [
        "torch.cuda.empty_cache()\n",
        "\n",
        "# Définir le chemin du fichier dans Google Drive\n",
        "json_path = \"/content/drive/Shareddrives/LLM - DailyAssistant/V2_cooking_prompts_final_response.json\"\n",
        "\n",
        "# Charger le fichier JSON\n",
        "with open(json_path, 'r', encoding='utf8') as f:\n",
        "    data = json.load(f)\n"
      ],
      "metadata": {
        "id": "Hh-mRcLzVKcc"
      },
      "execution_count": null,
      "outputs": []
    },
    {
      "cell_type": "markdown",
      "source": [
        "## **🔄 Step 2: Preprocess the Data**  \n",
        "\n",
        "The dataset contains **instructions, optional inputs, and responses**. We preprocess each example into a structured prompt format suitable for fine-tuning.  \n"
      ],
      "metadata": {
        "id": "aVB1KmFxVQoa"
      }
    },
    {
      "cell_type": "code",
      "source": [
        "def preprocess(example):\n",
        "    # Construire le prompt en fonction des clés présentes\n",
        "    prompt = f\"Instruction: {example['instruction']}\\n\"\n",
        "    if \"input\" in example and example[\"input\"]:  # Vérifie si 'input' existe et n'est pas vide\n",
        "        prompt += f\"Input: {example['input']}\\n\"\n",
        "    prompt += f\"Output: {example['response']}\"  # Utilisation correcte de 'response'\n",
        "\n",
        "    return {\"text\": prompt}"
      ],
      "metadata": {
        "id": "Bh8FZiiIVREl"
      },
      "execution_count": null,
      "outputs": []
    },
    {
      "cell_type": "markdown",
      "source": [
        "## **📊 Step 3: Split the Dataset**  \n",
        "\n",
        "We split the dataset into **training (80%)** and **evaluation (20%)** sets to ensure proper validation during fine-tuning.  "
      ],
      "metadata": {
        "id": "G1fell3zVSsU"
      }
    },
    {
      "cell_type": "code",
      "source": [
        "from sklearn.model_selection import train_test_split\n",
        "\n",
        "# Step 3: Split the dataset into training and evaluation sets\n",
        "train_data, eval_data = train_test_split(data, test_size=0.2, random_state=42)\n",
        "\n",
        "# Convert train and eval data into Hugging Face Datasets\n",
        "train_dataset = Dataset.from_list(train_data).map(preprocess)\n",
        "eval_dataset = Dataset.from_list(eval_data).map(preprocess)"
      ],
      "metadata": {
        "id": "VwIi1RvmVXlN"
      },
      "execution_count": null,
      "outputs": []
    },
    {
      "cell_type": "markdown",
      "source": [
        "## **📝 Step 4: Tokenize the Data**  \n",
        "\n",
        "To train the model efficiently, we **tokenize** the text using a **GPT-2 tokenizer**, ensuring proper padding and truncation.  \n"
      ],
      "metadata": {
        "id": "XttFOPVN7QT0"
      }
    },
    {
      "cell_type": "code",
      "source": [
        "# Step 4: Tokenize the dataset\n",
        "tokenizer = GPT2Tokenizer.from_pretrained(model_name)\n",
        "tokenizer.pad_token = tokenizer.eos_token\n",
        "\n",
        "def tokenize(example):\n",
        "    encoding = tokenizer(example[\"text\"], padding=\"max_length\", truncation=True, max_length=512)\n",
        "    encoding[\"labels\"] = encoding[\"input_ids\"].copy()  # ✅ Ajoute les labels pour la perte\n",
        "    return encoding\n",
        "\n",
        "train_dataset = train_dataset.map(tokenize, batched=True)\n",
        "eval_dataset = eval_dataset.map(tokenize, batched=True)"
      ],
      "metadata": {
        "id": "K7G_EX-Z7cwf",
        "colab": {
          "base_uri": "https://localhost:8080/",
          "height": 81,
          "referenced_widgets": [
            "3e836db5edff44c5988dbef2178a7ab0",
            "9c3e309d042742b6b18c3ed9789b735b",
            "58fccaea6976432ba2d7065a909c3364",
            "225817c8dcae42aa8f91c483cc97624e",
            "6e45ae6468654cb28ad6e98e2dc75a53",
            "87fce731eeef46178fc7bb3361bbf7a4",
            "622ec06f838d42b7a410b39a96f32ef1",
            "a96c65520e114a318c275e8932c363e8",
            "dd3f04594fc24175abcfae4310bc57c2",
            "f44c50356e42409daef3c44eb0cc14c7",
            "315d16dd325844c391f57324a20bb5be",
            "c9fd9f5111ff43c498e62a26dcbe1098",
            "27e7343fba5f4d22868bb0dd38feaf6b",
            "7c040791d58246bfb60371073e779b38",
            "9e6fcc67f2e24231a517f461c3d70b05",
            "4d5a226eb1c24777918121127a798e1a",
            "7f711a0de54040e9b7a159cc1749e315",
            "e11a30fe654f42cf980e14adad71491d",
            "b4306620ac0a421a947fc1a2366cce23",
            "df462bfe70cc4893938dbde5b73956d7",
            "475541fb7fad4b66a2e5954adc4201a8",
            "ee2b12d9c3ed42578b3f74f894c6668b"
          ]
        },
        "outputId": "4e7f46e5-7dca-4941-b4bc-f509768b389d"
      },
      "execution_count": 15,
      "outputs": [
        {
          "output_type": "display_data",
          "data": {
            "text/plain": [
              "Map:   0%|          | 0/923 [00:00<?, ? examples/s]"
            ],
            "application/vnd.jupyter.widget-view+json": {
              "version_major": 2,
              "version_minor": 0,
              "model_id": "3e836db5edff44c5988dbef2178a7ab0"
            }
          },
          "metadata": {}
        },
        {
          "output_type": "display_data",
          "data": {
            "text/plain": [
              "Map:   0%|          | 0/231 [00:00<?, ? examples/s]"
            ],
            "application/vnd.jupyter.widget-view+json": {
              "version_major": 2,
              "version_minor": 0,
              "model_id": "c9fd9f5111ff43c498e62a26dcbe1098"
            }
          },
          "metadata": {}
        }
      ]
    },
    {
      "cell_type": "markdown",
      "source": [
        "# **🍽️ Fine-Tuning GPT-2 for Cooking Assistance**\n",
        "\n",
        "Once the dataset is **preprocessed and tokenized**, we proceed to **fine-tuning** the **GPT-2 Medium** model using **Hugging Face's Trainer API**. The training process optimizes the model to generate relevant cooking instructions, recipe suggestions, and ingredient pairings.  \n"
      ],
      "metadata": {
        "id": "-sdPA5a5WSrj"
      }
    },
    {
      "cell_type": "markdown",
      "source": [
        "## **⚙️ Step 5: Define Training Arguments**  \n",
        "\n",
        "We define **hyperparameters** for training, evaluation, and optimization using `TrainingArguments`. These parameters help balance **learning efficiency, stability, and computational performance**.\n"
      ],
      "metadata": {
        "id": "rZH_atPpWixp"
      }
    },
    {
      "cell_type": "code",
      "source": [
        "from transformers import TrainingArguments\n",
        "\n",
        "# training_args = TrainingArguments(\n",
        "#     output_dir=\"./model_finetuned_V3\",\n",
        "#     run_name=\"GPT2_Cuisine_FT_V3\",  # Nom clair pour le suivi des expériences\n",
        "#     overwrite_output_dir=True,\n",
        "\n",
        "#     # 🚀 Training setup\n",
        "#     num_train_epochs=6,  # ✅ Suffisant pour un premier test, éviter le sur-ajustement\n",
        "#     per_device_train_batch_size=4,  # ✅ Ajustable selon la mémoire GPU disponible\n",
        "#     per_device_eval_batch_size=4,  # ✅ Même taille que le batch d'entraînement\n",
        "#     gradient_accumulation_steps=8,  # ✅ Simule un batch plus grand (32)\n",
        "\n",
        "#     # 📉 Optimisation\n",
        "#     learning_rate=2e-5,  # ✅ Stable pour GPT-2\n",
        "#     weight_decay=0.01,  # ✅ L2 Regularization\n",
        "#     warmup_ratio=0.1,  # ✅ 10% de warmup pour stabiliser l'apprentissage\n",
        "\n",
        "#     # 🏋️‍♂️ Checkpoints & Logging\n",
        "#     save_strategy=\"steps\",\n",
        "#     save_steps=30,  # ✅ Sauvegarde toutes les 200 étapes\n",
        "#     save_total_limit=2,  # ✅ Garde les 2 derniers modèles seulement\n",
        "#     logging_dir=\"./logs\",\n",
        "#     logging_steps=30,  # ✅ Journalisation toutes les 50 étapes\n",
        "\n",
        "#     # 📊 Évaluation\n",
        "#     evaluation_strategy=\"steps\",\n",
        "#     eval_steps=30,  # ✅ Évaluation toutes les 200 étapes\n",
        "\n",
        "#     # 🚀 Accélération\n",
        "#     fp16=True,  # ✅ Utilisation du Float16 (si GPU supporte)\n",
        "#     dataloader_num_workers=2,  # ✅ Optimisation des performances I/O\n",
        "# )\n"
      ],
      "metadata": {
        "id": "vR1NjGzy7fuj"
      },
      "execution_count": 16,
      "outputs": []
    },
    {
      "cell_type": "code",
      "source": [
        "training_args = TrainingArguments(\n",
        "    output_dir=\"./model_finetuned_V3\",\n",
        "    run_name=\"GPT2_Cuisine_FT_V3\",\n",
        "    overwrite_output_dir=True,\n",
        "\n",
        "    # 🚀 Training setup\n",
        "    num_train_epochs=15,\n",
        "    per_device_train_batch_size=4,\n",
        "    per_device_eval_batch_size=4,\n",
        "    gradient_accumulation_steps=8,\n",
        "\n",
        "    # 📉 Optimisation\n",
        "    learning_rate=1e-5,\n",
        "    weight_decay=0.005,\n",
        "    warmup_ratio=0.15,\n",
        "\n",
        "    # 📊 Évaluation & Journalisation\n",
        "    evaluation_strategy=\"epoch\",\n",
        "    logging_strategy=\"epoch\",\n",
        "\n",
        "    # 🚀 Accélération\n",
        "    fp16=True,\n",
        "    dataloader_num_workers=2,\n",
        ")\n"
      ],
      "metadata": {
        "id": "fh_mPpkAPFUj",
        "colab": {
          "base_uri": "https://localhost:8080/"
        },
        "outputId": "736773ec-f8fd-4718-96be-ea65c47ee11a"
      },
      "execution_count": 17,
      "outputs": [
        {
          "output_type": "stream",
          "name": "stderr",
          "text": [
            "/usr/local/lib/python3.11/dist-packages/transformers/training_args.py:1575: FutureWarning: `evaluation_strategy` is deprecated and will be removed in version 4.46 of 🤗 Transformers. Use `eval_strategy` instead\n",
            "  warnings.warn(\n"
          ]
        }
      ]
    },
    {
      "cell_type": "markdown",
      "source": [
        "## **🏋️‍♂️ Step 6: Define and Run the Trainer**  \n",
        "\n",
        "We now create a **Trainer** object, which manages the training process by handling **dataset feeding, optimization, evaluation, and logging**.  \n"
      ],
      "metadata": {
        "id": "VaW7QQbOWv27"
      }
    },
    {
      "cell_type": "code",
      "source": [
        "# Step 6: Define the Trainer\n",
        "trainer = Trainer(\n",
        "    model=model,\n",
        "    args=training_args,\n",
        "    train_dataset=train_dataset,\n",
        "    eval_dataset=eval_dataset,\n",
        "    tokenizer=tokenizer,\n",
        ")"
      ],
      "metadata": {
        "id": "70iKTr5x7hFG",
        "colab": {
          "base_uri": "https://localhost:8080/"
        },
        "outputId": "49faba05-ea3d-4af1-d06a-7bcc222fef09"
      },
      "execution_count": 18,
      "outputs": [
        {
          "output_type": "stream",
          "name": "stderr",
          "text": [
            "<ipython-input-18-ca5d4c7eecde>:2: FutureWarning: `tokenizer` is deprecated and will be removed in version 5.0.0 for `Trainer.__init__`. Use `processing_class` instead.\n",
            "  trainer = Trainer(\n"
          ]
        }
      ]
    },
    {
      "cell_type": "markdown",
      "source": [
        "After defining the trainer, we start the fine-tuning process:  \n"
      ],
      "metadata": {
        "id": "WnDASi5dWrYO"
      }
    },
    {
      "cell_type": "code",
      "source": [
        "trainer.train()"
      ],
      "metadata": {
        "id": "ZrB7PSC_7i4o",
        "colab": {
          "base_uri": "https://localhost:8080/",
          "height": 719
        },
        "outputId": "28f2e81f-72a8-450e-ab2d-97e47f3911fe"
      },
      "execution_count": 19,
      "outputs": [
        {
          "output_type": "stream",
          "name": "stderr",
          "text": [
            "\u001b[34m\u001b[1mwandb\u001b[0m: Currently logged in as: \u001b[33mlucien-laumont\u001b[0m (\u001b[33mlucien-laumont-esiee-paris\u001b[0m) to \u001b[32mhttps://api.wandb.ai\u001b[0m. Use \u001b[1m`wandb login --relogin`\u001b[0m to force relogin\n",
            "\u001b[34m\u001b[1mwandb\u001b[0m: Using wandb-core as the SDK backend.  Please refer to https://wandb.me/wandb-core for more information.\n"
          ]
        },
        {
          "output_type": "display_data",
          "data": {
            "text/plain": [
              "<IPython.core.display.HTML object>"
            ],
            "text/html": [
              "Tracking run with wandb version 0.19.6"
            ]
          },
          "metadata": {}
        },
        {
          "output_type": "display_data",
          "data": {
            "text/plain": [
              "<IPython.core.display.HTML object>"
            ],
            "text/html": [
              "Run data is saved locally in <code>/content/wandb/run-20250218_132839-4xipzz56</code>"
            ]
          },
          "metadata": {}
        },
        {
          "output_type": "display_data",
          "data": {
            "text/plain": [
              "<IPython.core.display.HTML object>"
            ],
            "text/html": [
              "Syncing run <strong><a href='https://wandb.ai/lucien-laumont-esiee-paris/huggingface/runs/4xipzz56' target=\"_blank\">GPT2_Cuisine_FT_V3</a></strong> to <a href='https://wandb.ai/lucien-laumont-esiee-paris/huggingface' target=\"_blank\">Weights & Biases</a> (<a href='https://wandb.me/developer-guide' target=\"_blank\">docs</a>)<br>"
            ]
          },
          "metadata": {}
        },
        {
          "output_type": "display_data",
          "data": {
            "text/plain": [
              "<IPython.core.display.HTML object>"
            ],
            "text/html": [
              " View project at <a href='https://wandb.ai/lucien-laumont-esiee-paris/huggingface' target=\"_blank\">https://wandb.ai/lucien-laumont-esiee-paris/huggingface</a>"
            ]
          },
          "metadata": {}
        },
        {
          "output_type": "display_data",
          "data": {
            "text/plain": [
              "<IPython.core.display.HTML object>"
            ],
            "text/html": [
              " View run at <a href='https://wandb.ai/lucien-laumont-esiee-paris/huggingface/runs/4xipzz56' target=\"_blank\">https://wandb.ai/lucien-laumont-esiee-paris/huggingface/runs/4xipzz56</a>"
            ]
          },
          "metadata": {}
        },
        {
          "output_type": "stream",
          "name": "stderr",
          "text": [
            "`loss_type=None` was set in the config but it is unrecognised.Using the default loss: `ForCausalLMLoss`.\n"
          ]
        },
        {
          "output_type": "display_data",
          "data": {
            "text/plain": [
              "<IPython.core.display.HTML object>"
            ],
            "text/html": [
              "\n",
              "    <div>\n",
              "      \n",
              "      <progress value='420' max='420' style='width:300px; height:20px; vertical-align: middle;'></progress>\n",
              "      [420/420 34:46, Epoch 14/15]\n",
              "    </div>\n",
              "    <table border=\"1\" class=\"dataframe\">\n",
              "  <thead>\n",
              " <tr style=\"text-align: left;\">\n",
              "      <th>Epoch</th>\n",
              "      <th>Training Loss</th>\n",
              "      <th>Validation Loss</th>\n",
              "    </tr>\n",
              "  </thead>\n",
              "  <tbody>\n",
              "    <tr>\n",
              "      <td>0</td>\n",
              "      <td>6.979500</td>\n",
              "      <td>4.612257</td>\n",
              "    </tr>\n",
              "    <tr>\n",
              "      <td>1</td>\n",
              "      <td>2.313100</td>\n",
              "      <td>0.769312</td>\n",
              "    </tr>\n",
              "    <tr>\n",
              "      <td>2</td>\n",
              "      <td>0.796900</td>\n",
              "      <td>0.617516</td>\n",
              "    </tr>\n",
              "    <tr>\n",
              "      <td>3</td>\n",
              "      <td>0.662700</td>\n",
              "      <td>0.570573</td>\n",
              "    </tr>\n",
              "    <tr>\n",
              "      <td>4</td>\n",
              "      <td>0.617300</td>\n",
              "      <td>0.551773</td>\n",
              "    </tr>\n",
              "    <tr>\n",
              "      <td>5</td>\n",
              "      <td>0.594900</td>\n",
              "      <td>0.540052</td>\n",
              "    </tr>\n",
              "    <tr>\n",
              "      <td>6</td>\n",
              "      <td>0.574400</td>\n",
              "      <td>0.531405</td>\n",
              "    </tr>\n",
              "    <tr>\n",
              "      <td>7</td>\n",
              "      <td>0.558200</td>\n",
              "      <td>0.524721</td>\n",
              "    </tr>\n",
              "    <tr>\n",
              "      <td>8</td>\n",
              "      <td>0.547900</td>\n",
              "      <td>0.520843</td>\n",
              "    </tr>\n",
              "    <tr>\n",
              "      <td>9</td>\n",
              "      <td>0.537600</td>\n",
              "      <td>0.516645</td>\n",
              "    </tr>\n",
              "    <tr>\n",
              "      <td>10</td>\n",
              "      <td>0.532900</td>\n",
              "      <td>0.514434</td>\n",
              "    </tr>\n",
              "    <tr>\n",
              "      <td>11</td>\n",
              "      <td>0.527500</td>\n",
              "      <td>0.512194</td>\n",
              "    </tr>\n",
              "    <tr>\n",
              "      <td>12</td>\n",
              "      <td>0.525900</td>\n",
              "      <td>0.510700</td>\n",
              "    </tr>\n",
              "    <tr>\n",
              "      <td>13</td>\n",
              "      <td>0.516100</td>\n",
              "      <td>0.509809</td>\n",
              "    </tr>\n",
              "    <tr>\n",
              "      <td>14</td>\n",
              "      <td>0.501300</td>\n",
              "      <td>0.509491</td>\n",
              "    </tr>\n",
              "  </tbody>\n",
              "</table><p>"
            ]
          },
          "metadata": {}
        },
        {
          "output_type": "execute_result",
          "data": {
            "text/plain": [
              "TrainOutput(global_step=420, training_loss=1.1190812792096818, metrics={'train_runtime': 2104.1723, 'train_samples_per_second': 6.58, 'train_steps_per_second': 0.2, 'total_flos': 1.2637759051137024e+16, 'train_loss': 1.1190812792096818, 'epoch': 14.969696969696969})"
            ]
          },
          "metadata": {},
          "execution_count": 19
        }
      ]
    },
    {
      "cell_type": "markdown",
      "source": [
        "# 📊 **Model Evaluation & Saving the Fine-Tuned GPT-2**\n",
        "\n",
        "After fine-tuning the **GPT-2 Medium** model, we evaluate its performance on the test dataset and visualize the **training loss curve**. Finally, we save the fine-tuned model for deployment in a web application.  \n",
        "\n",
        "## **📈 Step 7: Evaluate the Fine-Tuned Model**  \n",
        "\n",
        "Once training is complete, we evaluate the model's performance using the **Trainer API**.  "
      ],
      "metadata": {
        "id": "jH6u1z-mXm74"
      }
    },
    {
      "cell_type": "code",
      "source": [
        "eval_results = trainer.evaluate()\n",
        "print(f\"Final evaluation results: {eval_results}\")"
      ],
      "metadata": {
        "id": "rr-lBKFvOaLL",
        "colab": {
          "base_uri": "https://localhost:8080/",
          "height": 54
        },
        "outputId": "810e18f8-c448-4a2d-a8a3-0df1ba1d4c5f"
      },
      "execution_count": 20,
      "outputs": [
        {
          "output_type": "display_data",
          "data": {
            "text/plain": [
              "<IPython.core.display.HTML object>"
            ],
            "text/html": [
              "\n",
              "    <div>\n",
              "      \n",
              "      <progress value='58' max='58' style='width:300px; height:20px; vertical-align: middle;'></progress>\n",
              "      [58/58 00:11]\n",
              "    </div>\n",
              "    "
            ]
          },
          "metadata": {}
        },
        {
          "output_type": "stream",
          "name": "stdout",
          "text": [
            "Final evaluation results: {'eval_loss': 0.5094907283782959, 'eval_runtime': 11.9903, 'eval_samples_per_second': 19.266, 'eval_steps_per_second': 4.837, 'epoch': 14.969696969696969}\n"
          ]
        }
      ]
    },
    {
      "cell_type": "markdown",
      "source": [
        "## **📉 Step 8: Analyze Training Loss**  \n",
        "\n",
        "To monitor how well the model **learned over time**, we extract and visualize the **training loss** logged during fine-tuning.   "
      ],
      "metadata": {
        "id": "dRxlD9T0Xw37"
      }
    },
    {
      "cell_type": "code",
      "source": [
        "import numpy as np\n",
        "train_losses = [log[\"loss\"] for log in trainer.state.log_history if \"loss\" in log]\n",
        "print(f\"Average training loss: {np.mean(train_losses)}\")"
      ],
      "metadata": {
        "id": "FxhpngajObYP",
        "colab": {
          "base_uri": "https://localhost:8080/"
        },
        "outputId": "2072d32c-bc87-4fd1-8fae-a1844b65a755"
      },
      "execution_count": 21,
      "outputs": [
        {
          "output_type": "stream",
          "name": "stdout",
          "text": [
            "Average training loss: 1.11908\n"
          ]
        }
      ]
    },
    {
      "cell_type": "markdown",
      "source": [
        "## **📊 Step 9: Visualize Training Loss Curve**  \n",
        "\n",
        "A **loss curve** helps diagnose potential training issues, such as overfitting or underfitting.  "
      ],
      "metadata": {
        "id": "pwtAukr0YTm3"
      }
    },
    {
      "cell_type": "code",
      "source": [
        "import matplotlib.pyplot as plt\n",
        "\n",
        "steps = [log[\"step\"] for log in trainer.state.log_history if \"loss\" in log]\n",
        "losses = [log[\"loss\"] for log in trainer.state.log_history if \"loss\" in log]\n",
        "\n",
        "plt.plot(steps, losses)\n",
        "plt.xlabel(\"Étapes\")\n",
        "plt.ylabel(\"Perte d'entraînement\")\n",
        "plt.title(\"Évolution de la perte d'entraînement\")\n",
        "plt.show()"
      ],
      "metadata": {
        "id": "iAdIDTerPLVm",
        "colab": {
          "base_uri": "https://localhost:8080/",
          "height": 476
        },
        "outputId": "a95df1ae-558d-4334-8a56-e1313dc8f924"
      },
      "execution_count": 22,
      "outputs": [
        {
          "output_type": "display_data",
          "data": {
            "text/plain": [
              "<Figure size 640x480 with 1 Axes>"
            ],
            "image/png": "[encoded data removed]"
          },
          "metadata": {}
        }
      ]
    },
    {
      "cell_type": "markdown",
      "source": [
        "## **💾 Step 10: Save the Fine-Tuned Model**  \n",
        "\n",
        "After evaluation, we **save the model and tokenizer** so they can be loaded later for inference in a web application.  "
      ],
      "metadata": {
        "id": "d1btyBomYZGl"
      }
    },
    {
      "cell_type": "code",
      "source": [
        "# Step 8: Save the fine-tuned model\n",
        "\n",
        "model.save_pretrained(\"/content/drive/Shareddrives/LLM - DailyAssistant/model_finetuned_V3\")\n",
        "tokenizer.save_pretrained(\"/content/drive/Shareddrives/LLM - DailyAssistant/model_finetuned_V3\")"
      ],
      "metadata": {
        "id": "7HzzBrke7oZC",
        "colab": {
          "base_uri": "https://localhost:8080/"
        },
        "outputId": "d92840d5-1e45-4865-c16e-ddd8162837fb"
      },
      "execution_count": 23,
      "outputs": [
        {
          "output_type": "execute_result",
          "data": {
            "text/plain": [
              "('/content/drive/Shareddrives/LLM - DailyAssistant/model_finetuned_V3/tokenizer_config.json',\n",
              " '/content/drive/Shareddrives/LLM - DailyAssistant/model_finetuned_V3/special_tokens_map.json',\n",
              " '/content/drive/Shareddrives/LLM - DailyAssistant/model_finetuned_V3/vocab.json',\n",
              " '/content/drive/Shareddrives/LLM - DailyAssistant/model_finetuned_V3/merges.txt',\n",
              " '/content/drive/Shareddrives/LLM - DailyAssistant/model_finetuned_V3/added_tokens.json')"
            ]
          },
          "metadata": {},
          "execution_count": 23
        }
      ]
    },
    {
      "cell_type": "markdown",
      "source": [
        "With this final step, the **GPT-2 cooking assistant** is ready for deployment in a **web-based AI assistant**, capable of generating **cooking instructions, recipes, and ingredient suggestions**! 🍽️🚀🔥"
      ],
      "metadata": {
        "id": "wG2PWAbeYeG-"
      }
    },
    {
      "cell_type": "markdown",
      "source": [],
      "metadata": {
        "id": "eV5AoYPGKpge"
      }
    },
    {
      "cell_type": "markdown",
      "source": [],
      "metadata": {
        "id": "4-HH95dNM6un"
      }
    },
    {
      "cell_type": "code",
      "source": [
        "import re\n",
        "import pandas as pd\n",
        "\n",
        "# Define 5 cooking-related questions\n",
        "questions = [\n",
        "    (\"Can you create for me a soup with potatoes ?\", \"Balanced and Coherent\"),\n",
        "    (\"What are the best tips to improve my cooking skills ?\", \"Balanced and Coherent\"),\n",
        "    (\"How do I properly season a steak for maximum flavor?\", \"Concise and Focused\"),\n",
        "    (\"Create me a dish of your choice.\", \"Creative Exploration\"),\n",
        "    (\"Im a vegeterian. Could you prepare me a dish without meat ?\", \"Extended and Detailed\")\n",
        "]\n",
        "\n",
        "# Initialize a list to store results\n",
        "results = []\n",
        "\n",
        "# Iterate through each question, generate an answer, and clean it\n",
        "for i, (question, config_name) in enumerate(questions, start=1):\n",
        "    print(f\"\\n🔹 Question {i}: {question}\")\n",
        "\n",
        "    try:\n",
        "        # Generate text using the specified configuration\n",
        "        raw_response = generate_text(question, config_name)\n",
        "\n",
        "        # Clean the generated response\n",
        "        cleaned_response = clean_generated_text(raw_response)\n",
        "        final_response = clean_incomplete_sentences(cleaned_response)\n",
        "\n",
        "        # Store results in the list\n",
        "        results.append({\"Question\": question,\"Raw response\": raw_response, \"Answer\": final_response})\n",
        "\n",
        "    except ValueError as e:\n",
        "        print(f\"⚠️ Error: {e}\")\n",
        "        results.append({\"Question\": question, \"Raw response\": \"⚠️ Error generating response\", \"Answer\": \"⚠️ Error generating response\"})\n",
        "\n",
        "# Convert results to a Pandas DataFrame\n",
        "df = pd.DataFrame(results)\n",
        "df.head()\n"
      ],
      "metadata": {
        "colab": {
          "base_uri": "https://localhost:8080/",
          "height": 624
        },
        "id": "A1RBzC-oaofs",
        "outputId": "4d70f60e-ed9e-4d62-ae94-d0476c27ab1a"
      },
      "execution_count": 41,
      "outputs": [
        {
          "output_type": "stream",
          "name": "stdout",
          "text": [
            "\n",
            "🔹 Question 1: Can you create for me a soup with potatoes ?\n",
            "\n",
            "🔹 Question 2: What are the best tips to improve my cooking skills ?\n",
            "\n",
            "🔹 Question 3: How do I properly season a steak for maximum flavor?\n"
          ]
        },
        {
          "output_type": "stream",
          "name": "stderr",
          "text": [
            "/usr/local/lib/python3.11/dist-packages/transformers/generation/configuration_utils.py:628: UserWarning: `do_sample` is set to `False`. However, `temperature` is set to `0.6` -- this flag is only used in sample-based generation modes. You should set `do_sample=True` or unset `temperature`.\n",
            "  warnings.warn(\n"
          ]
        },
        {
          "output_type": "stream",
          "name": "stdout",
          "text": [
            "\n",
            "🔹 Question 4: Create me a dish of your choice.\n",
            "\n",
            "🔹 Question 5: Im a vegeterian. Could you prepare me a dish without meat ?\n"
          ]
        },
        {
          "output_type": "execute_result",
          "data": {
            "text/plain": [
              "                                            Question  \\\n",
              "0       Can you create for me a soup with potatoes ?   \n",
              "1  What are the best tips to improve my cooking s...   \n",
              "2  How do I properly season a steak for maximum f...   \n",
              "3                   Create me a dish of your choice.   \n",
              "4  Im a vegeterian. Could you prepare me a dish w...   \n",
              "\n",
              "                                        Raw response  \\\n",
              "0       Can you create for me a soup with potatoes ?   \n",
              "1  What are the best tips to improve my cooking s...   \n",
              "2  How do I properly season a steak for maximum f...   \n",
              "3  Create me a dish of your choice.\\nOutput: You ...   \n",
              "4  Im a vegeterian. Could you prepare me a dish w...   \n",
              "\n",
              "                                              Answer  \n",
              "0       Can you create for me a soup with potatoes ?  \n",
              "1  What are the best tips to improve my cooking s...  \n",
              "2  How do I properly season a steak for maximum f...  \n",
              "3  Create me a dish of your choice.\\nOutput: You ...  \n",
              "4  Im a vegeterian. Could you prepare me a dish w...  "
            ],
            "text/html": [
              "\n",
              "  <div id=\"df-fdfd8915-92d4-4b70-8c83-5aba0c6621f2\" class=\"colab-df-container\">\n",
              "    <div>\n",
              "<style scoped>\n",
              "    .dataframe tbody tr th:only-of-type {\n",
              "        vertical-align: middle;\n",
              "    }\n",
              "\n",
              "    .dataframe tbody tr th {\n",
              "        vertical-align: top;\n",
              "    }\n",
              "\n",
              "    .dataframe thead th {\n",
              "        text-align: right;\n",
              "    }\n",
              "</style>\n",
              "<table border=\"1\" class=\"dataframe\">\n",
              "  <thead>\n",
              "    <tr style=\"text-align: right;\">\n",
              "      <th></th>\n",
              "      <th>Question</th>\n",
              "      <th>Raw response</th>\n",
              "      <th>Answer</th>\n",
              "    </tr>\n",
              "  </thead>\n",
              "  <tbody>\n",
              "    <tr>\n",
              "      <th>0</th>\n",
              "      <td>Can you create for me a soup with potatoes ?</td>\n",
              "      <td>Can you create for me a soup with potatoes ?</td>\n",
              "      <td>Can you create for me a soup with potatoes ?</td>\n",
              "    </tr>\n",
              "    <tr>\n",
              "      <th>1</th>\n",
              "      <td>What are the best tips to improve my cooking s...</td>\n",
              "      <td>What are the best tips to improve my cooking s...</td>\n",
              "      <td>What are the best tips to improve my cooking s...</td>\n",
              "    </tr>\n",
              "    <tr>\n",
              "      <th>2</th>\n",
              "      <td>How do I properly season a steak for maximum f...</td>\n",
              "      <td>How do I properly season a steak for maximum f...</td>\n",
              "      <td>How do I properly season a steak for maximum f...</td>\n",
              "    </tr>\n",
              "    <tr>\n",
              "      <th>3</th>\n",
              "      <td>Create me a dish of your choice.</td>\n",
              "      <td>Create me a dish of your choice.\\nOutput: You ...</td>\n",
              "      <td>Create me a dish of your choice.\\nOutput: You ...</td>\n",
              "    </tr>\n",
              "    <tr>\n",
              "      <th>4</th>\n",
              "      <td>Im a vegeterian. Could you prepare me a dish w...</td>\n",
              "      <td>Im a vegeterian. Could you prepare me a dish w...</td>\n",
              "      <td>Im a vegeterian. Could you prepare me a dish w...</td>\n",
              "    </tr>\n",
              "  </tbody>\n",
              "</table>\n",
              "</div>\n",
              "    <div class=\"colab-df-buttons\">\n",
              "\n",
              "  <div class=\"colab-df-container\">\n",
              "    <button class=\"colab-df-convert\" onclick=\"convertToInteractive('df-fdfd8915-92d4-4b70-8c83-5aba0c6621f2')\"\n",
              "            title=\"Convert this dataframe to an interactive table.\"\n",
              "            style=\"display:none;\">\n",
              "\n",
              "  <svg xmlns=\"http://www.w3.org/2000/svg\" height=\"24px\" viewBox=\"0 -960 960 960\">\n",
              "    <path d=\"M120-120v-720h720v720H120Zm60-500h600v-160H180v160Zm220 220h160v-160H400v160Zm0 220h160v-160H400v160ZM180-400h160v-160H180v160Zm440 0h160v-160H620v160ZM180-180h160v-160H180v160Zm440 0h160v-160H620v160Z\"/>\n",
              "  </svg>\n",
              "    </button>\n",
              "\n",
              "  <style>\n",
              "    .colab-df-container {\n",
              "      display:flex;\n",
              "      gap: 12px;\n",
              "    }\n",
              "\n",
              "    .colab-df-convert {\n",
              "      background-color: #E8F0FE;\n",
              "      border: none;\n",
              "      border-radius: 50%;\n",
              "      cursor: pointer;\n",
              "      display: none;\n",
              "      fill: #1967D2;\n",
              "      height: 32px;\n",
              "      padding: 0 0 0 0;\n",
              "      width: 32px;\n",
              "    }\n",
              "\n",
              "    .colab-df-convert:hover {\n",
              "      background-color: #E2EBFA;\n",
              "      box-shadow: 0px 1px 2px rgba(60, 64, 67, 0.3), 0px 1px 3px 1px rgba(60, 64, 67, 0.15);\n",
              "      fill: #174EA6;\n",
              "    }\n",
              "\n",
              "    .colab-df-buttons div {\n",
              "      margin-bottom: 4px;\n",
              "    }\n",
              "\n",
              "    [theme=dark] .colab-df-convert {\n",
              "      background-color: #3B4455;\n",
              "      fill: #D2E3FC;\n",
              "    }\n",
              "\n",
              "    [theme=dark] .colab-df-convert:hover {\n",
              "      background-color: #434B5C;\n",
              "      box-shadow: 0px 1px 3px 1px rgba(0, 0, 0, 0.15);\n",
              "      filter: drop-shadow(0px 1px 2px rgba(0, 0, 0, 0.3));\n",
              "      fill: #FFFFFF;\n",
              "    }\n",
              "  </style>\n",
              "\n",
              "    <script>\n",
              "      const buttonEl =\n",
              "        document.querySelector('#df-fdfd8915-92d4-4b70-8c83-5aba0c6621f2 button.colab-df-convert');\n",
              "      buttonEl.style.display =\n",
              "        google.colab.kernel.accessAllowed ? 'block' : 'none';\n",
              "\n",
              "      async function convertToInteractive(key) {\n",
              "        const element = document.querySelector('#df-fdfd8915-92d4-4b70-8c83-5aba0c6621f2');\n",
              "        const dataTable =\n",
              "          await google.colab.kernel.invokeFunction('convertToInteractive',\n",
              "                                                    [key], {});\n",
              "        if (!dataTable) return;\n",
              "\n",
              "        const docLinkHtml = 'Like what you see? Visit the ' +\n",
              "          '<a target=\"_blank\" href=https://colab.research.google.com/notebooks/data_table.ipynb>data table notebook</a>'\n",
              "          + ' to learn more about interactive tables.';\n",
              "        element.innerHTML = '';\n",
              "        dataTable['output_type'] = 'display_data';\n",
              "        await google.colab.output.renderOutput(dataTable, element);\n",
              "        const docLink = document.createElement('div');\n",
              "        docLink.innerHTML = docLinkHtml;\n",
              "        element.appendChild(docLink);\n",
              "      }\n",
              "    </script>\n",
              "  </div>\n",
              "\n",
              "\n",
              "<div id=\"df-327ad1ec-38e5-4bb9-9729-5140be14b4f7\">\n",
              "  <button class=\"colab-df-quickchart\" onclick=\"quickchart('df-327ad1ec-38e5-4bb9-9729-5140be14b4f7')\"\n",
              "            title=\"Suggest charts\"\n",
              "            style=\"display:none;\">\n",
              "\n",
              "<svg xmlns=\"http://www.w3.org/2000/svg\" height=\"24px\"viewBox=\"0 0 24 24\"\n",
              "     width=\"24px\">\n",
              "    <g>\n",
              "        <path d=\"M19 3H5c-1.1 0-2 .9-2 2v14c0 1.1.9 2 2 2h14c1.1 0 2-.9 2-2V5c0-1.1-.9-2-2-2zM9 17H7v-7h2v7zm4 0h-2V7h2v10zm4 0h-2v-4h2v4z\"/>\n",
              "    </g>\n",
              "</svg>\n",
              "  </button>\n",
              "\n",
              "<style>\n",
              "  .colab-df-quickchart {\n",
              "      --bg-color: #E8F0FE;\n",
              "      --fill-color: #1967D2;\n",
              "      --hover-bg-color: #E2EBFA;\n",
              "      --hover-fill-color: #174EA6;\n",
              "      --disabled-fill-color: #AAA;\n",
              "      --disabled-bg-color: #DDD;\n",
              "  }\n",
              "\n",
              "  [theme=dark] .colab-df-quickchart {\n",
              "      --bg-color: #3B4455;\n",
              "      --fill-color: #D2E3FC;\n",
              "      --hover-bg-color: #434B5C;\n",
              "      --hover-fill-color: #FFFFFF;\n",
              "      --disabled-bg-color: #3B4455;\n",
              "      --disabled-fill-color: #666;\n",
              "  }\n",
              "\n",
              "  .colab-df-quickchart {\n",
              "    background-color: var(--bg-color);\n",
              "    border: none;\n",
              "    border-radius: 50%;\n",
              "    cursor: pointer;\n",
              "    display: none;\n",
              "    fill: var(--fill-color);\n",
              "    height: 32px;\n",
              "    padding: 0;\n",
              "    width: 32px;\n",
              "  }\n",
              "\n",
              "  .colab-df-quickchart:hover {\n",
              "    background-color: var(--hover-bg-color);\n",
              "    box-shadow: 0 1px 2px rgba(60, 64, 67, 0.3), 0 1px 3px 1px rgba(60, 64, 67, 0.15);\n",
              "    fill: var(--button-hover-fill-color);\n",
              "  }\n",
              "\n",
              "  .colab-df-quickchart-complete:disabled,\n",
              "  .colab-df-quickchart-complete:disabled:hover {\n",
              "    background-color: var(--disabled-bg-color);\n",
              "    fill: var(--disabled-fill-color);\n",
              "    box-shadow: none;\n",
              "  }\n",
              "\n",
              "  .colab-df-spinner {\n",
              "    border: 2px solid var(--fill-color);\n",
              "    border-color: transparent;\n",
              "    border-bottom-color: var(--fill-color);\n",
              "    animation:\n",
              "      spin 1s steps(1) infinite;\n",
              "  }\n",
              "\n",
              "  @keyframes spin {\n",
              "    0% {\n",
              "      border-color: transparent;\n",
              "      border-bottom-color: var(--fill-color);\n",
              "      border-left-color: var(--fill-color);\n",
              "    }\n",
              "    20% {\n",
              "      border-color: transparent;\n",
              "      border-left-color: var(--fill-color);\n",
              "      border-top-color: var(--fill-color);\n",
              "    }\n",
              "    30% {\n",
              "      border-color: transparent;\n",
              "      border-left-color: var(--fill-color);\n",
              "      border-top-color: var(--fill-color);\n",
              "      border-right-color: var(--fill-color);\n",
              "    }\n",
              "    40% {\n",
              "      border-color: transparent;\n",
              "      border-right-color: var(--fill-color);\n",
              "      border-top-color: var(--fill-color);\n",
              "    }\n",
              "    60% {\n",
              "      border-color: transparent;\n",
              "      border-right-color: var(--fill-color);\n",
              "    }\n",
              "    80% {\n",
              "      border-color: transparent;\n",
              "      border-right-color: var(--fill-color);\n",
              "      border-bottom-color: var(--fill-color);\n",
              "    }\n",
              "    90% {\n",
              "      border-color: transparent;\n",
              "      border-bottom-color: var(--fill-color);\n",
              "    }\n",
              "  }\n",
              "</style>\n",
              "\n",
              "  <script>\n",
              "    async function quickchart(key) {\n",
              "      const quickchartButtonEl =\n",
              "        document.querySelector('#' + key + ' button');\n",
              "      quickchartButtonEl.disabled = true;  // To prevent multiple clicks.\n",
              "      quickchartButtonEl.classList.add('colab-df-spinner');\n",
              "      try {\n",
              "        const charts = await google.colab.kernel.invokeFunction(\n",
              "            'suggestCharts', [key], {});\n",
              "      } catch (error) {\n",
              "        console.error('Error during call to suggestCharts:', error);\n",
              "      }\n",
              "      quickchartButtonEl.classList.remove('colab-df-spinner');\n",
              "      quickchartButtonEl.classList.add('colab-df-quickchart-complete');\n",
              "    }\n",
              "    (() => {\n",
              "      let quickchartButtonEl =\n",
              "        document.querySelector('#df-327ad1ec-38e5-4bb9-9729-5140be14b4f7 button');\n",
              "      quickchartButtonEl.style.display =\n",
              "        google.colab.kernel.accessAllowed ? 'block' : 'none';\n",
              "    })();\n",
              "  </script>\n",
              "</div>\n",
              "\n",
              "    </div>\n",
              "  </div>\n"
            ],
            "application/vnd.google.colaboratory.intrinsic+json": {
              "type": "dataframe",
              "variable_name": "df",
              "summary": "{\n  \"name\": \"df\",\n  \"rows\": 5,\n  \"fields\": [\n    {\n      \"column\": \"Question\",\n      \"properties\": {\n        \"dtype\": \"string\",\n        \"num_unique_values\": 5,\n        \"samples\": [\n          \"What are the best tips to improve my cooking skills ?\",\n          \"Im a vegeterian. Could you prepare me a dish without meat ?\",\n          \"How do I properly season a steak for maximum flavor?\"\n        ],\n        \"semantic_type\": \"\",\n        \"description\": \"\"\n      }\n    },\n    {\n      \"column\": \"Raw response\",\n      \"properties\": {\n        \"dtype\": \"string\",\n        \"num_unique_values\": 5,\n        \"samples\": [\n          \"What are the best tips to improve my cooking skills ?\\nOutput: 1. Practice proper mixing techniques, such as adding liquids and combining ingredients; 2/3 of all recipes should be prepared within a few minutes with minimal distractions or preparation time required (cooking is not only about food but also senses); 3 /4 incorporate natural flavors into your dishes for enhanced flavor while maintaining their integrity ; 4 . Limit overcookering when possible in order maintain freshness during storage periods because improper cook times can lead an organism towards oxidative stress , which leads them toward nutrient deficiencies\",\n          \"Im a vegeterian. Could you prepare me a dish without meat ?\",\n          \"How do I properly season a steak for maximum flavor?\\nOutput: To ensure the best possible texture and doneness, follow these steps to achieve optimal results.\"\n        ],\n        \"semantic_type\": \"\",\n        \"description\": \"\"\n      }\n    },\n    {\n      \"column\": \"Answer\",\n      \"properties\": {\n        \"dtype\": \"string\",\n        \"num_unique_values\": 5,\n        \"samples\": [\n          \"What are the best tips to improve my cooking skills ?\\nOutput: 1. Practice proper mixing techniques, such as adding liquids and combining ingredients; 2/3 of all recipes should be prepared within a few minutes with minimal distractions or preparation time required (cooking is not only about food but also senses); 3 /4 incorporate natural flavors into your dishes for enhanced flavor while maintaining their integrity ; 4. \",\n          \"Im a vegeterian. Could you prepare me a dish without meat ?\",\n          \"How do I properly season a steak for maximum flavor?\\nOutput: To ensure the best possible texture and doneness, follow these steps to achieve optimal results.\"\n        ],\n        \"semantic_type\": \"\",\n        \"description\": \"\"\n      }\n    }\n  ]\n}"
            }
          },
          "metadata": {},
          "execution_count": 41
        }
      ]
    }
  ]
}